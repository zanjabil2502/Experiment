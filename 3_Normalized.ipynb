{
 "cells": [
  {
   "cell_type": "code",
   "execution_count": null,
   "id": "3fd0f0d3",
   "metadata": {},
   "outputs": [],
   "source": [
    "from tqdm import tqdm\n",
    "import pandas as pd\n",
    "import numpy as np\n",
    "import os\n",
    "import librosa as lb\n",
    "from scipy.io.wavfile import write \n",
    "import matplotlib.pyplot as plt\n",
    "import shutil\n",
    "import sys\n",
    "sys.path.append(os.path.abspath('script'))\n",
    "from feature_class import features\n",
    "from DSP import classify_cough\n",
    "import pickle\n",
    "from scipy.io import wavfile"
   ]
  },
  {
   "cell_type": "code",
   "execution_count": null,
   "id": "85340edf",
   "metadata": {},
   "outputs": [],
   "source": [
    "if os.path.exists('csv_files/normalized_data/')==False:\n",
    "    os.mkdir('csv_files/normalized_data/')"
   ]
  },
  {
   "cell_type": "markdown",
   "id": "95e283c0",
   "metadata": {},
   "source": [
    "## Converting webm files to wav files"
   ]
  },
  {
   "cell_type": "code",
   "execution_count": null,
   "id": "3ddff9f6",
   "metadata": {},
   "outputs": [],
   "source": [
    "if os.path.exists('dataset/Coughvid-Data/wav')==False:\n",
    "    os.mkdir('dataset/Coughvid-Data/wav')"
   ]
  },
  {
   "cell_type": "code",
   "execution_count": null,
   "id": "83860fe6",
   "metadata": {},
   "outputs": [],
   "source": [
    "coughvid = pd.read_csv('csv_files/Merge_dataset.csv')"
   ]
  },
  {
   "cell_type": "code",
   "execution_count": null,
   "id": "6b2d75f8",
   "metadata": {},
   "outputs": [],
   "source": [
    "for index,row in tqdm(coughvid.iterrows()):\n",
    "    dataset = row['DataSet']\n",
    "    if dataset == 'coughvid':\n",
    "        paths = row['DIR']\n",
    "        fn = paths.split('/')[-1].split('.')[0]\n",
    "        loc = os.path.join('dataset/Coughvid-Data/wav',fn+'.wav')\n",
    "        if (paths.endswith(\".webm\")):\n",
    "            command = f\"ffmpeg -i  {paths} -c:a pcm_f32le {loc}\"\n",
    "            os.system(command)"
   ]
  },
  {
   "cell_type": "markdown",
   "id": "88b470cc",
   "metadata": {},
   "source": [
    "## Normalizing Cougvid Wav Files"
   ]
  },
  {
   "cell_type": "code",
   "execution_count": null,
   "id": "1e649c66",
   "metadata": {},
   "outputs": [],
   "source": [
    "if os.path.exists('dataset/Coughvid-Data/wav_normalized')==False:\n",
    "    os.mkdir('dataset/Coughvid-Data/wav_normalized')"
   ]
  },
  {
   "cell_type": "code",
   "execution_count": null,
   "id": "13fb8d5c",
   "metadata": {},
   "outputs": [],
   "source": [
    "for i in os.listdir('dataset/Coughvid-Data/wav'):\n",
    "    path = os.path.join('dataset/Coughvid-Data/wav',i)\n",
    "    try:\n",
    "        y, sr = lb.load(path, sr = None)\n",
    "        y_norm = lb.util.normalize(y)\n",
    "        y_re = lb.resample(y_norm, sr, 16000)\n",
    "        loc = os.path.join('dataset/Coughvid-Data/wav_normalized',i)\n",
    "        write(loc, 16000, y_re)\n",
    "    except:\n",
    "        print('None')"
   ]
  },
  {
   "cell_type": "markdown",
   "id": "4139494d",
   "metadata": {},
   "source": [
    "## Creating Coughvid Normalized Data CSV"
   ]
  },
  {
   "cell_type": "code",
   "execution_count": null,
   "id": "b87d8db1",
   "metadata": {},
   "outputs": [],
   "source": [
    "df_list = []\n",
    "for index,row in coughvid.iterrows():\n",
    "    temp = pd.DataFrame(columns=['filename','label'])\n",
    "    dataset = row['DataSet']\n",
    "    if dataset == 'coughvid':\n",
    "        paths = row['DIR']\n",
    "        fn = paths.split('/')[-1].split('.')[0]\n",
    "        loc = os.path.join('dataset/Coughvid-Data/wav_normalized',fn+'.wav')\n",
    "        if os.path.exists(loc)==True:\n",
    "            temp['filename'] = [fn+'.wav']\n",
    "            temp['label'] = [row['STATUS']]\n",
    "    df_list.append(temp)\n",
    "VidData = pd.concat(df_list)\n",
    "VidData = VidData.sample(frac=1).reset_index(drop=True)\n",
    "VidData.to_csv('csv_files/normalized_data/Coughvid_dataset.csv', index=False)\n",
    "VidData.head()"
   ]
  },
  {
   "cell_type": "markdown",
   "id": "88d30bd9",
   "metadata": {},
   "source": [
    "## Normalizing Coswara Wav Files"
   ]
  },
  {
   "cell_type": "code",
   "execution_count": null,
   "id": "96f29c8a",
   "metadata": {},
   "outputs": [],
   "source": [
    "if os.path.exists('dataset/Coswara-Data/wav_normalized')==False:\n",
    "    os.mkdir('dataset/Coswara-Data/wav_normalized')"
   ]
  },
  {
   "cell_type": "code",
   "execution_count": null,
   "id": "e526dc23",
   "metadata": {
    "scrolled": true
   },
   "outputs": [],
   "source": [
    "coswara = pd.read_csv('csv_files/Merge_dataset.csv')\n",
    "for index,row in coswara.iterrows():\n",
    "    dataset = row['DataSet']\n",
    "    if dataset == 'coswara':\n",
    "        paths = row['DIR']\n",
    "        name = paths.split('/')[-1].split('.')[0]\n",
    "        if name == 'cough-shallow':\n",
    "            fn = paths.split('/')[-2]\n",
    "            try:\n",
    "                y, sr = lb.load(paths, sr = None)\n",
    "                y_norm = lb.util.normalize(y)\n",
    "                y_re = lb.resample(y_norm, sr, 16000)\n",
    "                loc = os.path.join('dataset/Coswara-Data/wav_normalized',fn+'.wav')\n",
    "                write(loc, 16000, y_re)\n",
    "            except:\n",
    "                print('None')\n",
    "        if name == 'cough-heavy':\n",
    "            fn = paths.split('/')[-2]\n",
    "            try:\n",
    "                y, sr = lb.load(paths, sr = None)\n",
    "                y_norm = lb.util.normalize(y)\n",
    "                y_re = lb.resample(y_norm, sr, 16000)\n",
    "                loc = os.path.join('dataset/Coswara-Data/wav_normalized',fn+'_heavy.wav')\n",
    "                write(loc, 16000, y_re)\n",
    "            except:\n",
    "                print('None')"
   ]
  },
  {
   "cell_type": "markdown",
   "id": "82dcc61f",
   "metadata": {},
   "source": [
    "## Create Coswara Normalized Data CSV"
   ]
  },
  {
   "cell_type": "code",
   "execution_count": null,
   "id": "db2055e7",
   "metadata": {},
   "outputs": [],
   "source": [
    "coughvid = pd.read_csv('csv_files/Merge_dataset.csv')"
   ]
  },
  {
   "cell_type": "code",
   "execution_count": null,
   "id": "2130a52b",
   "metadata": {},
   "outputs": [],
   "source": [
    "df_list = []\n",
    "for index,row in coughvid.iterrows():\n",
    "    temp = pd.DataFrame(columns=['filename','label'])\n",
    "    dataset = row['DataSet']\n",
    "    if dataset == 'coswara':\n",
    "        paths = row['DIR']\n",
    "        name = paths.split('/')[-1].split('.')[0]\n",
    "        if name == 'cough-shallow':\n",
    "            fn = paths.split('/')[-2]\n",
    "            loc = os.path.join('dataset/Coswara-Data/wav_normalized',fn+'.wav')\n",
    "            if os.path.exists(loc)==True:\n",
    "                temp['filename'] = [fn+'.wav']\n",
    "                temp['label'] = [row['STATUS']]\n",
    "        if name == 'cough-heavy':\n",
    "            fn = paths.split('/')[-2]\n",
    "            loc = os.path.join('dataset/Coswara-Data/wav_normalized',fn+'_heavy.wav')\n",
    "            if os.path.exists(loc)==True:\n",
    "                temp['filename'] = [fn+'_heavy.wav']\n",
    "                temp['label'] = [row['STATUS']]\n",
    "    df_list.append(temp)\n",
    "CosData = pd.concat(df_list)\n",
    "CosData = CosData.sample(frac=1).reset_index(drop=True)\n",
    "CosData.to_csv('csv_files/normalized_data/Coswara_dataset.csv', index=False)\n",
    "CosData.head()"
   ]
  },
  {
   "cell_type": "markdown",
   "id": "c1a73c46",
   "metadata": {},
   "source": [
    "## Normalizing Compare Wav Files"
   ]
  },
  {
   "cell_type": "code",
   "execution_count": null,
   "id": "d43bcd6c",
   "metadata": {},
   "outputs": [],
   "source": [
    "if os.path.exists('dataset/Compare-Data/dist/wav_normalized')==False:\n",
    "    os.mkdir('dataset/Compare-Data/dist/wav_normalized')"
   ]
  },
  {
   "cell_type": "code",
   "execution_count": null,
   "id": "93aa0f3f",
   "metadata": {},
   "outputs": [],
   "source": [
    "compare= pd.read_csv('csv_files/Merge_dataset.csv')\n",
    "for index,row in compare.iterrows():\n",
    "    dataset = row['DataSet']\n",
    "    if dataset == 'compare':\n",
    "        paths = row['DIR']\n",
    "        fn = paths.split('/')[-1].split('.')[0]\n",
    "        try:\n",
    "            y, sr = lb.load(paths, sr = None)\n",
    "            y_norm = lb.util.normalize(y)\n",
    "            y_re = lb.resample(y_norm, sr, 16000)\n",
    "            loc = os.path.join('dataset/Compare-Data/dist/wav_normalized',fn+'.wav')\n",
    "            write(loc, 16000, y_re)\n",
    "        except:\n",
    "            print('None')"
   ]
  },
  {
   "cell_type": "markdown",
   "id": "37f3887e",
   "metadata": {},
   "source": [
    "## Create Compare Normalized Data CSV"
   ]
  },
  {
   "cell_type": "code",
   "execution_count": null,
   "id": "4cbe7ba7",
   "metadata": {},
   "outputs": [],
   "source": [
    "df_list = []\n",
    "for index,row in compare.iterrows():\n",
    "    temp = pd.DataFrame(columns=['filename','label'])\n",
    "    dataset = row['DataSet']\n",
    "    if dataset == 'compare':\n",
    "        paths = row['DIR']\n",
    "        fn = paths.split('/')[-1].split('.')[0]\n",
    "        loc = os.path.join('dataset/Compare-Data/dist/wav_normalized',fn+'.wav')\n",
    "        if os.path.exists(loc)==True:\n",
    "            temp['filename'] = [fn+'.wav']\n",
    "            temp['label'] = [row['STATUS']]\n",
    "    df_list.append(temp)\n",
    "CompData = pd.concat(df_list)\n",
    "CompData = CompData.sample(frac=1).reset_index(drop=True)\n",
    "CompData.to_csv('csv_files/normalized_data/Compare_dataset.csv', index=False)\n",
    "CompData.head()"
   ]
  },
  {
   "cell_type": "markdown",
   "id": "87e7366b",
   "metadata": {},
   "source": [
    "## Cough Filtering "
   ]
  },
  {
   "cell_type": "code",
   "execution_count": null,
   "id": "47cb7032",
   "metadata": {},
   "outputs": [],
   "source": [
    "loaded_model = pickle.load(open(os.path.join('models', 'cough_classifier'), 'rb'))\n",
    "loaded_scaler = pickle.load(open(os.path.join('models','cough_classification_scaler'), 'rb'))"
   ]
  },
  {
   "cell_type": "code",
   "execution_count": null,
   "id": "6855a6e9",
   "metadata": {},
   "outputs": [],
   "source": [
    "folder = 'dataset/Compare-Data/Cough'\n",
    "data = 'dataset/Compare-Data/dist/wav_normalized'\n",
    "\n",
    "if os.path.exists(folder)==False:\n",
    "    os.mkdir(folder)\n",
    "    \n",
    "for file in os.listdir(data):\n",
    "    filename = os.path.join(data,file)\n",
    "    fs, x = wavfile.read(filename)\n",
    "    probability = classify_cough(x, fs, loaded_model, loaded_scaler)\n",
    "    value = round(probability*100,2)\n",
    "    if value>=80:\n",
    "        loc = os.path.join(folder,file)\n",
    "        shutil.copy(filename,loc)\n",
    "    print(\"The file {0} has a {1}\\% probability of being a cough\".format(file,value))"
   ]
  },
  {
   "cell_type": "code",
   "execution_count": null,
   "id": "9a31a720",
   "metadata": {},
   "outputs": [],
   "source": [
    "folder = 'dataset/Coughvid-Data/Cough'\n",
    "data = 'dataset/Coughvid-Data/wav_normalized'\n",
    "\n",
    "if os.path.exists(folder)==False:\n",
    "    os.mkdir(folder)\n",
    "    \n",
    "for file in os.listdir('dataset/Coughvid-Data/wav_normalized'):\n",
    "    filename = os.path.join(data,file)\n",
    "    fs, x = wavfile.read(filename)\n",
    "    probability = classify_cough(x, fs, loaded_model, loaded_scaler)\n",
    "    value = round(probability*100,2)\n",
    "    if value>=80:\n",
    "        loc = os.path.join(folder,file)\n",
    "        shutil.copy(filename,loc)\n",
    "    print(\"The file {0} has a {1}\\% probability of being a cough\".format(file,value))"
   ]
  },
  {
   "cell_type": "code",
   "execution_count": null,
   "id": "b23e15d3",
   "metadata": {},
   "outputs": [],
   "source": [
    "folder = 'dataset/Coswara-Data/Cough'\n",
    "data = 'dataset/Coswara-Data/wav_normalized'\n",
    "\n",
    "if os.path.exists(folder)==False:\n",
    "    os.mkdir(folder)\n",
    "    \n",
    "for file in os.listdir('dataset/Coswara-Data/wav_normalized'):\n",
    "    filename = os.path.join(data,file)\n",
    "    fs, x = wavfile.read(filename)\n",
    "    probability = classify_cough(x, fs, loaded_model, loaded_scaler)\n",
    "    value = round(probability*100,2)\n",
    "    if value>=80:\n",
    "        loc = os.path.join(folder,file)\n",
    "        shutil.copy(filename,loc)\n",
    "    print(\"The file {0} has a {1}\\% probability of being a cough\".format(file,value))"
   ]
  },
  {
   "cell_type": "markdown",
   "id": "7dc03a1a",
   "metadata": {},
   "source": [
    "## Create CSV"
   ]
  },
  {
   "cell_type": "code",
   "execution_count": null,
   "id": "2832f83f",
   "metadata": {},
   "outputs": [],
   "source": [
    "if os.path.exists('csv_files/cough')==False:\n",
    "    os.mkdir('csv_files/cough')"
   ]
  },
  {
   "cell_type": "code",
   "execution_count": null,
   "id": "1fbaa8d5",
   "metadata": {},
   "outputs": [],
   "source": [
    "df_coswara = pd.read_csv('csv_files/normalized_data/Coswara_dataset.csv')\n",
    "dataset = 'dataset/Coswara-Data/Cough'\n",
    "df_list = []\n",
    "\n",
    "for index,row in df_coswara.iterrows():\n",
    "    filename = row['filename']\n",
    "    label = row['label']\n",
    "    temp = pd.DataFrame(columns=['filename','label'])\n",
    "    if os.path.exists(os.path.join(dataset,filename))==True:\n",
    "        temp['filename'] = [filename]\n",
    "        temp['label'] = [label]\n",
    "        df_list.append(temp)\n",
    "df_coswara = pd.concat(df_list)\n",
    "df_coswara = df_coswara.sample(frac=1).reset_index(drop=True)\n",
    "df_coswara.to_csv('csv_files/cough/Coswara_dataset.csv', index=False)\n",
    "df_coswara.head()"
   ]
  },
  {
   "cell_type": "code",
   "execution_count": null,
   "id": "d47cbb9e",
   "metadata": {},
   "outputs": [],
   "source": [
    "df_coswara = pd.read_csv('csv_files/normalized_data/Coswara_dataset.csv')\n",
    "dataset = 'dataset/Coswara-Data/Cough'\n",
    "df_list = []\n",
    "\n",
    "for index,row in df_coswara.iterrows():\n",
    "    filename = row['filename']\n",
    "    label = row['label']\n",
    "    temp = pd.DataFrame(columns=['filename','label'])\n",
    "    if os.path.exists(os.path.join(dataset,filename))==True:\n",
    "        if label == 'positive':\n",
    "            temp['filename'] = [filename]\n",
    "            temp['label'] = [label]\n",
    "            df_list.append(temp)\n",
    "df_coswara = pd.concat(df_list)\n",
    "df_coswara = df_coswara.sample(frac=1).reset_index(drop=True)\n",
    "df_coswara.to_csv('csv_files/cough/Coswara_positive_dataset.csv', index=False)\n",
    "df_coswara.head()"
   ]
  },
  {
   "cell_type": "code",
   "execution_count": null,
   "id": "58a15a91",
   "metadata": {},
   "outputs": [],
   "source": [
    "df_coughvid = pd.read_csv('csv_files/normalized_data/Coughvid_dataset.csv')\n",
    "dataset = 'dataset/Coughvid-Data/Cough'\n",
    "df_list = []\n",
    "\n",
    "for index,row in df_coughvid.iterrows():\n",
    "    filename = row['filename']\n",
    "    label = row['label']\n",
    "    temp = pd.DataFrame(columns=['filename','label'])\n",
    "    if os.path.exists(os.path.join(dataset,filename))==True:\n",
    "        temp['filename'] = [filename]\n",
    "        temp['label'] = [label]\n",
    "        df_list.append(temp)\n",
    "df_coughvid = pd.concat(df_list)\n",
    "df_coughvid = df_coughvid.sample(frac=1).reset_index(drop=True)\n",
    "df_coughvid.to_csv('csv_files/cough/Coughvid_dataset.csv', index=False)\n",
    "df_coughvid.head()"
   ]
  },
  {
   "cell_type": "code",
   "execution_count": null,
   "id": "f49d8485",
   "metadata": {},
   "outputs": [],
   "source": [
    "df_coughvid = pd.read_csv('csv_files/normalized_data/Coughvid_dataset.csv')\n",
    "dataset = 'dataset/Coughvid-Data/Cough'\n",
    "df_list = []\n",
    "\n",
    "for index,row in df_coughvid.iterrows():\n",
    "    filename = row['filename']\n",
    "    label = row['label']\n",
    "    temp = pd.DataFrame(columns=['filename','label'])\n",
    "    if os.path.exists(os.path.join(dataset,filename))==True:\n",
    "        if label == 'positive':\n",
    "            temp['filename'] = [filename]\n",
    "            temp['label'] = [label]\n",
    "            df_list.append(temp)\n",
    "df_coughvid = pd.concat(df_list)\n",
    "df_coughvid = df_coughvid.sample(frac=1).reset_index(drop=True)\n",
    "df_coughvid.to_csv('csv_files/cough/Coughvid_positive_dataset.csv', index=False)\n",
    "df_coughvid.head()"
   ]
  },
  {
   "cell_type": "code",
   "execution_count": null,
   "id": "0368f81e",
   "metadata": {},
   "outputs": [],
   "source": [
    "df_compare = pd.read_csv('csv_files/normalized_data/Compare_dataset.csv')\n",
    "dataset = 'dataset/Compare-Data/Cough'\n",
    "df_list = []\n",
    "\n",
    "for index,row in df_compare.iterrows():\n",
    "    filename = row['filename']\n",
    "    label = row['label']\n",
    "    temp = pd.DataFrame(columns=['filename','label'])\n",
    "    if os.path.exists(os.path.join(dataset,filename))==True:\n",
    "        temp['filename'] = [filename]\n",
    "        temp['label'] = [label]\n",
    "        df_list.append(temp)\n",
    "df_compare = pd.concat(df_list)\n",
    "df_compare = df_compare.sample(frac=1).reset_index(drop=True)\n",
    "df_compare.to_csv('csv_files/cough/Compare_dataset.csv', index=False)\n",
    "df_compare.head()"
   ]
  },
  {
   "cell_type": "markdown",
   "id": "70cdb106",
   "metadata": {},
   "source": [
    "## Merge Normalized Data"
   ]
  },
  {
   "cell_type": "code",
   "execution_count": null,
   "id": "a5c9fff2",
   "metadata": {},
   "outputs": [],
   "source": [
    "if os.path.exists('dataset/Merge-Data')==False:\n",
    "    os.mkdir('dataset/Merge-Data')"
   ]
  },
  {
   "cell_type": "code",
   "execution_count": null,
   "id": "0972cc27",
   "metadata": {},
   "outputs": [],
   "source": [
    "for i in os.listdir('dataset/Coughvid-Data/Cough'):\n",
    "    source = os.path.join('dataset/Coughvid-Data/Cough',i)\n",
    "    target = os.path.join('dataset/Merge-Data',i)\n",
    "    shutil.copyfile(source,target)"
   ]
  },
  {
   "cell_type": "code",
   "execution_count": null,
   "id": "5359159b",
   "metadata": {},
   "outputs": [],
   "source": [
    "for i in os.listdir('dataset/Coswara-Data/Cough'):\n",
    "    source = os.path.join('dataset/Coswara-Data/Cough',i)\n",
    "    target = os.path.join('dataset/Merge-Data',i)\n",
    "    shutil.copyfile(source,target)"
   ]
  },
  {
   "cell_type": "code",
   "execution_count": null,
   "id": "639e5057",
   "metadata": {},
   "outputs": [],
   "source": [
    "for i in os.listdir('dataset/Compare-Data/Cough'):\n",
    "    source = os.path.join('dataset/Compare-Data/Cough',i)\n",
    "    target = os.path.join('dataset/Merge-Data',i)\n",
    "    shutil.copyfile(source,target)"
   ]
  },
  {
   "cell_type": "markdown",
   "id": "d34c0502",
   "metadata": {},
   "source": [
    "## Create CSV for Experiment"
   ]
  },
  {
   "cell_type": "code",
   "execution_count": null,
   "id": "06b1d894",
   "metadata": {},
   "outputs": [],
   "source": [
    "if os.path.exists('csv_files/experiment_data')==False:\n",
    "    os.mkdir('csv_files/experiment_data')"
   ]
  },
  {
   "cell_type": "code",
   "execution_count": null,
   "id": "abad3dcd",
   "metadata": {},
   "outputs": [],
   "source": [
    "coughvid = pd.read_csv('csv_files/cough/Coughvid_positive_dataset.csv')\n",
    "coswara = pd.read_csv('csv_files/cough/Coswara_positive_dataset.csv')\n",
    "compare = pd.read_csv('csv_files/cough/Compare_dataset.csv')"
   ]
  },
  {
   "cell_type": "code",
   "execution_count": null,
   "id": "2fa3b703",
   "metadata": {},
   "outputs": [],
   "source": [
    "partisi = 0.2"
   ]
  },
  {
   "cell_type": "code",
   "execution_count": null,
   "id": "48af9267",
   "metadata": {
    "scrolled": true
   },
   "outputs": [],
   "source": [
    "df_list = []\n",
    "for index, row in coughvid.iterrows():\n",
    "    temp = pd.DataFrame(columns=['filename','label'])\n",
    "    fn = row['filename']\n",
    "    temp['filename'] = [fn]\n",
    "    temp['label'] = [row['label']]\n",
    "    df_list.append(temp)\n",
    "num = int(partisi*len(df_list))\n",
    "\n",
    "VidDevData = pd.concat(df_list[0:num])\n",
    "VidDevData.to_csv('csv_files/experiment_data/coughvid_devel.csv', index=False)\n",
    "\n",
    "VidTrainData = pd.concat(df_list[num:])\n",
    "VidTrainData.to_csv('csv_files/experiment_data/coughvid_train.csv', index=False)"
   ]
  },
  {
   "cell_type": "code",
   "execution_count": null,
   "id": "2b01abdc",
   "metadata": {},
   "outputs": [],
   "source": [
    "df_list = []\n",
    "for index, row in coswara.iterrows():\n",
    "    temp = pd.DataFrame(columns=['filename','label'])\n",
    "    fn = row['filename']\n",
    "    temp['filename'] = [fn]\n",
    "    temp['label'] = [row['label']]\n",
    "    df_list.append(temp)\n",
    "num = int(partisi*len(df_list))\n",
    "\n",
    "CosDevData = pd.concat(df_list[0:num])\n",
    "CosDevData.to_csv('csv_files/experiment_data/coswara_devel.csv', index=False)\n",
    "\n",
    "CosTrainData = pd.concat(df_list[num:])\n",
    "CosTrainData.to_csv('csv_files/experiment_data/coswara_train.csv', index=False)"
   ]
  },
  {
   "cell_type": "code",
   "execution_count": null,
   "id": "db2a3bb9",
   "metadata": {},
   "outputs": [],
   "source": [
    "df_list = []\n",
    "for index,row in MergeData.iterrows():\n",
    "    temp = pd.DataFrame(columns=['filename','label'])\n",
    "    fn = row['filename']\n",
    "    name = fn.split('.')[0].split('_')[0]\n",
    "    if name == 'devel':\n",
    "        temp['filename'] = [fn]\n",
    "        temp['label'] = [row['label']]\n",
    "    df_list.append(temp)\n",
    "ComDevData = pd.concat(df_list)\n",
    "ComDevData.to_csv('csv_files/experiment_data/compare_devel.csv', index=False)\n",
    "ComDevData.head()"
   ]
  },
  {
   "cell_type": "code",
   "execution_count": null,
   "id": "2e09193c",
   "metadata": {},
   "outputs": [],
   "source": [
    "df_list = []\n",
    "for index,row in MergeData.iterrows():\n",
    "    temp = pd.DataFrame(columns=['filename','label'])\n",
    "    fn = row['filename']\n",
    "    name = fn.split('.')[0].split('_')[0]\n",
    "    if name == 'test':\n",
    "        temp['filename'] = [fn]\n",
    "        temp['label'] = [row['label']]\n",
    "    df_list.append(temp)\n",
    "TestData = pd.concat(df_list)\n",
    "TestData = TestData.sample(frac=1).reset_index(drop=True)\n",
    "TestData.to_csv('csv_files/experiment_data/test.csv', index=False)\n",
    "TestData.head()"
   ]
  },
  {
   "cell_type": "code",
   "execution_count": null,
   "id": "01a45779",
   "metadata": {},
   "outputs": [],
   "source": [
    "df_list = []\n",
    "for index,row in compare.iterrows():\n",
    "    temp = pd.DataFrame(columns=['filename','label'])\n",
    "    fn = row['filename']\n",
    "    name = fn.split('.')[0].split('_')[0]\n",
    "    if name == 'train':\n",
    "        temp['filename'] = [fn]\n",
    "        temp['label'] = [row['label']]\n",
    "    df_list.append(temp)\n",
    "ComTrainData = pd.concat(df_list)\n",
    "ComTrainData.to_csv('csv_files/experiment_data/compare_train.csv', index=False)\n",
    "ComTrainData.head()"
   ]
  },
  {
   "cell_type": "code",
   "execution_count": null,
   "id": "6869c70b",
   "metadata": {},
   "outputs": [],
   "source": [
    "DevData = pd.concat([CosDevData, VidDevData, ComDevData])\n",
    "DevData.to_csv('csv_files/experiment_data/devel.csv', index=False)\n",
    "DevData.head()"
   ]
  },
  {
   "cell_type": "code",
   "execution_count": null,
   "id": "6ffc513b",
   "metadata": {},
   "outputs": [],
   "source": [
    "TrainData = pd.concat([CosTrainData, VidTrainData, ComTrainData])\n",
    "TrainData.to_csv('csv_files/experiment_data/train.csv', index=False)\n",
    "TrainData.head()"
   ]
  }
 ],
 "metadata": {
  "kernelspec": {
   "display_name": "Python 3 (ipykernel)",
   "language": "python",
   "name": "python3"
  },
  "language_info": {
   "codemirror_mode": {
    "name": "ipython",
    "version": 3
   },
   "file_extension": ".py",
   "mimetype": "text/x-python",
   "name": "python",
   "nbconvert_exporter": "python",
   "pygments_lexer": "ipython3",
   "version": "3.9.8"
  }
 },
 "nbformat": 4,
 "nbformat_minor": 5
}
