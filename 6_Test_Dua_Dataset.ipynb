{
 "cells": [
  {
   "cell_type": "markdown",
   "id": "b15e59b1",
   "metadata": {},
   "source": [
    "# Dataset (Compare + Coswara)"
   ]
  },
  {
   "cell_type": "markdown",
   "id": "8bbefa37",
   "metadata": {},
   "source": [
    "## Create CSV"
   ]
  },
  {
   "cell_type": "code",
   "execution_count": null,
   "id": "90ef98ff",
   "metadata": {},
   "outputs": [],
   "source": [
    "coswara = pd.read_csv('csv_files/cough/Coswara_positive_dataset.csv')\n",
    "compare = pd.read_csv('csv_files/cough/Compare_dataset.csv')"
   ]
  },
  {
   "cell_type": "code",
   "execution_count": null,
   "id": "07ea9697",
   "metadata": {},
   "outputs": [],
   "source": [
    "partisi = 0.2"
   ]
  },
  {
   "cell_type": "code",
   "execution_count": null,
   "id": "9be8eaf8",
   "metadata": {},
   "outputs": [],
   "source": [
    "df_list = []\n",
    "for index, row in coswara.iterrows():\n",
    "    temp = pd.DataFrame(columns=['filename','label'])\n",
    "    fn = row['filename']\n",
    "    temp['filename'] = [fn]\n",
    "    temp['label'] = [row['label']]\n",
    "    df_list.append(temp)\n",
    "num = int(partisi*len(df_list))\n",
    "\n",
    "CosDevData = pd.concat(df_list[0:num])\n",
    "CosDevData.to_csv('csv_files/experiment_data/coswara_devel.csv', index=False)\n",
    "\n",
    "CosTrainData = pd.concat(df_list[num:])\n",
    "CosTrainData.to_csv('csv_files/experiment_data/coswara_train.csv', index=False)"
   ]
  },
  {
   "cell_type": "code",
   "execution_count": null,
   "id": "31f27e57",
   "metadata": {},
   "outputs": [],
   "source": [
    "df_list = []\n",
    "for index,row in MergeData.iterrows():\n",
    "    temp = pd.DataFrame(columns=['filename','label'])\n",
    "    fn = row['filename']\n",
    "    name = fn.split('.')[0].split('_')[0]\n",
    "    if name == 'devel':\n",
    "        temp['filename'] = [fn]\n",
    "        temp['label'] = [row['label']]\n",
    "    df_list.append(temp)\n",
    "ComDevData = pd.concat(df_list)\n",
    "ComDevData.to_csv('csv_files/experiment_data/compare_devel.csv', index=False)\n",
    "ComDevData.head()"
   ]
  },
  {
   "cell_type": "code",
   "execution_count": null,
   "id": "83200508",
   "metadata": {},
   "outputs": [],
   "source": [
    "df_list = []\n",
    "for index,row in compare.iterrows():\n",
    "    temp = pd.DataFrame(columns=['filename','label'])\n",
    "    fn = row['filename']\n",
    "    name = fn.split('.')[0].split('_')[0]\n",
    "    if name == 'train':\n",
    "        temp['filename'] = [fn]\n",
    "        temp['label'] = [row['label']]\n",
    "    df_list.append(temp)\n",
    "ComTrainData = pd.concat(df_list)\n",
    "ComTrainData.to_csv('csv_files/experiment_data/compare_train.csv', index=False)\n",
    "ComTrainData.head()"
   ]
  },
  {
   "cell_type": "code",
   "execution_count": null,
   "id": "55caef02",
   "metadata": {},
   "outputs": [],
   "source": [
    "df_list = []\n",
    "for index,row in MergeData.iterrows():\n",
    "    temp = pd.DataFrame(columns=['filename','label'])\n",
    "    fn = row['filename']\n",
    "    name = fn.split('.')[0].split('_')[0]\n",
    "    if name == 'test':\n",
    "        temp['filename'] = [fn]\n",
    "        temp['label'] = [row['label']]\n",
    "    df_list.append(temp)\n",
    "TestData = pd.concat(df_list)\n",
    "TestData = TestData.sample(frac=1).reset_index(drop=True)\n",
    "TestData.to_csv('csv_files/experiment_data/test.csv', index=False)\n",
    "TestData.head()"
   ]
  },
  {
   "cell_type": "code",
   "execution_count": null,
   "id": "ee0226c5",
   "metadata": {},
   "outputs": [],
   "source": [
    "DevData = pd.concat([CosDevData, ComDevData])\n",
    "DevData.to_csv('csv_files/experiment_data/devel.csv', index=False)\n",
    "DevData.head()"
   ]
  },
  {
   "cell_type": "code",
   "execution_count": null,
   "id": "0404bf1c",
   "metadata": {},
   "outputs": [],
   "source": [
    "TrainData = pd.concat([CosTrainData,ComTrainData])\n",
    "TrainData.to_csv('csv_files/experiment_data/train.csv', index=False)\n",
    "TrainData.head()"
   ]
  },
  {
   "cell_type": "markdown",
   "id": "6b7701fc",
   "metadata": {},
   "source": [
    "## Training"
   ]
  },
  {
   "cell_type": "code",
   "execution_count": null,
   "id": "09c7645c",
   "metadata": {},
   "outputs": [],
   "source": [
    "import os\n",
    "\n",
    "config = 'script/config.json'\n",
    "seeds = [42]\n",
    "for seed in seeds:\n",
    "    command = f\"python script/train.py -c {config} -s {seed}\"\n",
    "    os.system(command)"
   ]
  },
  {
   "cell_type": "markdown",
   "id": "6095f0ba",
   "metadata": {},
   "source": [
    "## Testing"
   ]
  },
  {
   "cell_type": "code",
   "execution_count": null,
   "id": "b67ea186",
   "metadata": {
    "scrolled": true
   },
   "outputs": [],
   "source": [
    "import os\n",
    "\n",
    "data = 'csv_files/experiment_data/test.csv'\n",
    "folder = 'dataset/Merge-Data/'\n",
    "experiment_dir = 'result/'\n",
    "command = f\"python script/test_all_seeds.py -t {data} -r {folder} --experiment_dir {experiment_dir}\"\n",
    "os.system(command)"
   ]
  },
  {
   "cell_type": "code",
   "execution_count": null,
   "id": "40cd5d5e",
   "metadata": {},
   "outputs": [],
   "source": [
    "import os\n",
    "\n",
    "data = 'csv_files/experiment_data/test.csv'\n",
    "folder = 'dataset/Merge-Data/'\n",
    "experiment_dir = 'result/'\n",
    "musan = 'dataset/Musan-Data'\n",
    "command = f\"python script/test_all_seeds.py -t {data} -r {folder} --experiment_dir {experiment_dir} --insert_noise 1 --num_additive 1 --num_specaug 1 --musan_path {musan}\"\n",
    "os.system(command)"
   ]
  },
  {
   "cell_type": "markdown",
   "id": "ce12a863",
   "metadata": {},
   "source": [
    "# Dataset (Compare + Coughvid)"
   ]
  },
  {
   "cell_type": "markdown",
   "id": "a13a64de",
   "metadata": {},
   "source": [
    "## Create CSV"
   ]
  },
  {
   "cell_type": "code",
   "execution_count": null,
   "id": "6f67f759",
   "metadata": {},
   "outputs": [],
   "source": [
    "coughvid = pd.read_csv('csv_files/cough/Coughvid_positive_dataset.csv')\n",
    "compare = pd.read_csv('csv_files/cough/Compare_dataset.csv')"
   ]
  },
  {
   "cell_type": "code",
   "execution_count": null,
   "id": "3c4d6330",
   "metadata": {},
   "outputs": [],
   "source": [
    "partisi = 0.2"
   ]
  },
  {
   "cell_type": "code",
   "execution_count": null,
   "id": "e1647820",
   "metadata": {},
   "outputs": [],
   "source": [
    "df_list = []\n",
    "for index, row in coughvid.iterrows():\n",
    "    temp = pd.DataFrame(columns=['filename','label'])\n",
    "    fn = row['filename']\n",
    "    temp['filename'] = [fn]\n",
    "    temp['label'] = [row['label']]\n",
    "    df_list.append(temp)\n",
    "num = int(partisi*len(df_list))\n",
    "\n",
    "VidDevData = pd.concat(df_list[0:num])\n",
    "VidDevData.to_csv('csv_files/experiment_data/coughvid_devel.csv', index=False)\n",
    "\n",
    "VidTrainData = pd.concat(df_list[num:])\n",
    "VidTrainData.to_csv('csv_files/experiment_data/coughvid_train.csv', index=False)"
   ]
  },
  {
   "cell_type": "code",
   "execution_count": null,
   "id": "58422f09",
   "metadata": {},
   "outputs": [],
   "source": [
    "df_list = []\n",
    "for index,row in MergeData.iterrows():\n",
    "    temp = pd.DataFrame(columns=['filename','label'])\n",
    "    fn = row['filename']\n",
    "    name = fn.split('.')[0].split('_')[0]\n",
    "    if name == 'devel':\n",
    "        temp['filename'] = [fn]\n",
    "        temp['label'] = [row['label']]\n",
    "    df_list.append(temp)\n",
    "ComDevData = pd.concat(df_list)\n",
    "ComDevData.to_csv('csv_files/experiment_data/compare_devel.csv', index=False)\n",
    "ComDevData.head()"
   ]
  },
  {
   "cell_type": "code",
   "execution_count": null,
   "id": "9965a22c",
   "metadata": {},
   "outputs": [],
   "source": [
    "df_list = []\n",
    "for index,row in compare.iterrows():\n",
    "    temp = pd.DataFrame(columns=['filename','label'])\n",
    "    fn = row['filename']\n",
    "    name = fn.split('.')[0].split('_')[0]\n",
    "    if name == 'train':\n",
    "        temp['filename'] = [fn]\n",
    "        temp['label'] = [row['label']]\n",
    "    df_list.append(temp)\n",
    "ComTrainData = pd.concat(df_list)\n",
    "ComTrainData.to_csv('csv_files/experiment_data/compare_train.csv', index=False)\n",
    "ComTrainData.head()"
   ]
  },
  {
   "cell_type": "code",
   "execution_count": null,
   "id": "cdc35ea3",
   "metadata": {},
   "outputs": [],
   "source": [
    "df_list = []\n",
    "for index,row in MergeData.iterrows():\n",
    "    temp = pd.DataFrame(columns=['filename','label'])\n",
    "    fn = row['filename']\n",
    "    name = fn.split('.')[0].split('_')[0]\n",
    "    if name == 'test':\n",
    "        temp['filename'] = [fn]\n",
    "        temp['label'] = [row['label']]\n",
    "    df_list.append(temp)\n",
    "TestData = pd.concat(df_list)\n",
    "TestData = TestData.sample(frac=1).reset_index(drop=True)\n",
    "TestData.to_csv('csv_files/experiment_data/test.csv', index=False)\n",
    "TestData.head()"
   ]
  },
  {
   "cell_type": "code",
   "execution_count": null,
   "id": "b2d3da13",
   "metadata": {},
   "outputs": [],
   "source": [
    "DevData = pd.concat([CosDevData, VidDevData])\n",
    "DevData.to_csv('csv_files/experiment_data/devel.csv', index=False)\n",
    "DevData.head()"
   ]
  },
  {
   "cell_type": "code",
   "execution_count": null,
   "id": "54329899",
   "metadata": {},
   "outputs": [],
   "source": [
    "TrainData = pd.concat([CosTrainData, VidTrainData])\n",
    "TrainData.to_csv('csv_files/experiment_data/train.csv', index=False)\n",
    "TrainData.head()"
   ]
  },
  {
   "cell_type": "markdown",
   "id": "f9464b6d",
   "metadata": {},
   "source": [
    "## Train"
   ]
  },
  {
   "cell_type": "code",
   "execution_count": null,
   "id": "9b570759",
   "metadata": {},
   "outputs": [],
   "source": [
    "import os\n",
    "\n",
    "config = 'script/config.json'\n",
    "seeds = [42]\n",
    "for seed in seeds:\n",
    "    command = f\"python script/train.py -c {config} -s {seed}\"\n",
    "    os.system(command)"
   ]
  },
  {
   "cell_type": "markdown",
   "id": "59b21aa9",
   "metadata": {},
   "source": [
    "## Testing"
   ]
  },
  {
   "cell_type": "code",
   "execution_count": null,
   "id": "c6f6ad27",
   "metadata": {},
   "outputs": [],
   "source": [
    "import os\n",
    "\n",
    "data = 'csv_files/experiment_data/test.csv'\n",
    "folder = 'dataset/Merge-Data/'\n",
    "experiment_dir = 'result/'\n",
    "command = f\"python script/test_all_seeds.py -t {data} -r {folder} --experiment_dir {experiment_dir}\"\n",
    "os.system(command)"
   ]
  },
  {
   "cell_type": "code",
   "execution_count": null,
   "id": "41f3a8e3",
   "metadata": {},
   "outputs": [],
   "source": [
    "import os\n",
    "\n",
    "data = 'csv_files/experiment_data/test.csv'\n",
    "folder = 'dataset/Merge-Data/'\n",
    "experiment_dir = 'result/'\n",
    "musan = 'dataset/Musan-Data'\n",
    "command = f\"python script/test_all_seeds.py -t {data} -r {folder} --experiment_dir {experiment_dir} --insert_noise 1 --num_additive 1 --num_specaug 1 --musan_path {musan}\"\n",
    "os.system(command)"
   ]
  }
 ],
 "metadata": {
  "kernelspec": {
   "display_name": "Python 3 (ipykernel)",
   "language": "python",
   "name": "python3"
  },
  "language_info": {
   "codemirror_mode": {
    "name": "ipython",
    "version": 3
   },
   "file_extension": ".py",
   "mimetype": "text/x-python",
   "name": "python",
   "nbconvert_exporter": "python",
   "pygments_lexer": "ipython3",
   "version": "3.9.8"
  }
 },
 "nbformat": 4,
 "nbformat_minor": 5
}
