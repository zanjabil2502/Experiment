{
 "cells": [
  {
   "cell_type": "code",
   "execution_count": null,
   "id": "4548a8e3",
   "metadata": {},
   "outputs": [],
   "source": [
    "from tqdm import tqdm\n",
    "import pandas as pd\n",
    "import numpy as np\n",
    "import os\n",
    "from collections import OrderedDict"
   ]
  },
  {
   "cell_type": "code",
   "execution_count": null,
   "id": "ba4723dc",
   "metadata": {},
   "outputs": [],
   "source": [
    "if os.path.exists('csv_files')==False:\n",
    "    os.mkdir('csv_files')"
   ]
  },
  {
   "cell_type": "markdown",
   "id": "8a597b91",
   "metadata": {},
   "source": [
    "## Create Coswara's CSV File "
   ]
  },
  {
   "cell_type": "code",
   "execution_count": null,
   "id": "9a5879b0",
   "metadata": {
    "scrolled": true
   },
   "outputs": [],
   "source": [
    "names   = ['ID','STATUS','DIR','DataSet']\n",
    "join_by = pd.read_csv('dataset/Coswara-Data/combined_data.csv')\n",
    "\n",
    "import glob\n",
    "df_list = []\n",
    "for path in tqdm(glob.glob('dataset/Coswara-Data/*/*/cough-shallow.wav')):\n",
    "    temp = pd.DataFrame(columns=['id','DIR'])\n",
    "    temp['id'] = [path.split('/')[-2]]\n",
    "    temp['DIR'] = [path]\n",
    "    temp = pd.merge(left=temp,right=join_by,on='id',how='inner')\n",
    "    temp = temp[['id','covid_status','DIR']]\n",
    "    df_list.append(temp.rename(columns={'id':'ID','covid_status':'STATUS','DIR':'DIR'}))\n",
    "CosData=pd.concat(df_list)\n",
    "CosData['DataSet'] = 'coswara'\n",
    "CosData   = CosData.sample(frac=1).reset_index(drop=True)\n",
    "CosData.to_csv('csv_files/Coswara_dataset.csv', index=False)\n",
    "CosData.head()"
   ]
  },
  {
   "cell_type": "code",
   "execution_count": null,
   "id": "7e7bdf35",
   "metadata": {},
   "outputs": [],
   "source": [
    "status = []\n",
    "for index,row in CosData.iterrows():\n",
    "    cat = row['STATUS']\n",
    "    status.append(cat)\n",
    "category = list(OrderedDict.fromkeys(status))\n",
    "print(category)"
   ]
  },
  {
   "cell_type": "code",
   "execution_count": null,
   "id": "fbb3acb7",
   "metadata": {},
   "outputs": [],
   "source": [
    "names   = ['ID','STATUS','DIR','DataSet']\n",
    "join_by = pd.read_csv('dataset/Coswara-Data/combined_data.csv')\n",
    "\n",
    "import glob\n",
    "df_list = []\n",
    "for path in tqdm(glob.glob('dataset/Coswara-Data/*/*/cough-heavy.wav')):\n",
    "    temp = pd.DataFrame(columns=['id','DIR'])\n",
    "    temp['id'] = [path.split('/')[-2]]\n",
    "    temp['DIR'] = [path]\n",
    "    temp = pd.merge(left=temp,right=join_by,on='id',how='inner')\n",
    "    temp = temp[['id','covid_status','DIR']]\n",
    "    df_list.append(temp.rename(columns={'id':'ID','covid_status':'STATUS','DIR':'DIR'}))\n",
    "HevData=pd.concat(df_list)\n",
    "HevData['DataSet'] = 'coswara'\n",
    "HevData   = HevData.sample(frac=1).reset_index(drop=True)\n",
    "HevData.to_csv('csv_files/Coswara_heavy_dataset.csv', index=False)\n",
    "HevData.head()"
   ]
  },
  {
   "cell_type": "markdown",
   "id": "c8628da3",
   "metadata": {},
   "source": [
    "## Create Coughvid's CSV File"
   ]
  },
  {
   "cell_type": "code",
   "execution_count": null,
   "id": "837c3462",
   "metadata": {},
   "outputs": [],
   "source": [
    "coughvid  = 'dataset/Coughvid-Data/public_dataset/'\n",
    "\n",
    "VidData   = pd.read_csv(os.path.join(coughvid,'metadata_compiled.csv'),header=0)\n",
    "VidData   = VidData.loc[VidData['cough_detected'] >= 0.0][['uuid','status']]\n",
    "VidData.dropna(inplace=True)\n",
    "\n",
    "extradata = VidData.loc[VidData['status']=='COVID-19']\n",
    "notradata = VidData.loc[VidData['status']!='COVID-19']\n",
    "\n",
    "VidData   = pd.concat([extradata,notradata],ignore_index= True)\n",
    "VidData['DIR'] = coughvid + VidData['uuid'] + '.webm'\n",
    "VidData['DataSet'] = 'coughvid'\n",
    "VidData.rename(columns={'uuid': 'ID', 'status': 'STATUS'}, inplace=True)\n",
    "VidData   = VidData.sample(frac=1).reset_index(drop=True)\n",
    "VidData.to_csv('csv_files/Coughvid_dataset.csv', index=False)\n",
    "VidData.head()"
   ]
  },
  {
   "cell_type": "code",
   "execution_count": null,
   "id": "ff6947e7",
   "metadata": {},
   "outputs": [],
   "source": [
    "status = []\n",
    "for index,row in VidData.iterrows():\n",
    "    cat = row['STATUS']\n",
    "    status.append(cat)\n",
    "category = list(OrderedDict.fromkeys(status))\n",
    "print(category)"
   ]
  },
  {
   "cell_type": "markdown",
   "id": "6f409a40",
   "metadata": {},
   "source": [
    "## Create Compare's CSV File"
   ]
  },
  {
   "cell_type": "code",
   "execution_count": null,
   "id": "0dacd4bb",
   "metadata": {},
   "outputs": [],
   "source": [
    "compare = 'dataset/Compare-Data/dist/wav'\n",
    "df = pd.read_csv('dataset/Compare-Data/metaData_CCS.csv')\n",
    "df_list = []\n",
    "for index,row in tqdm(df.iterrows()):\n",
    "    temp = pd.DataFrame(columns=['ID','STATUS','DIR','DataSet'])\n",
    "    temp['ID'] = [row['Uid']]\n",
    "    temp['STATUS'] = [row['label']]\n",
    "    fn = row['filename']\n",
    "    temp['DIR'] = [os.path.join(compare,fn)]\n",
    "    temp['DataSet'] = ['compare']\n",
    "    df_list.append(temp)\n",
    "CompData = pd.concat(df_list)\n",
    "CompData = CompData.sample(frac=1).reset_index(drop=True)\n",
    "CompData.to_csv('csv_files/Compare_dataset.csv', index=False)\n",
    "CompData.head()\n",
    "    "
   ]
  },
  {
   "cell_type": "markdown",
   "id": "b74ecdca",
   "metadata": {},
   "source": [
    "## Merge CSV "
   ]
  },
  {
   "cell_type": "code",
   "execution_count": null,
   "id": "042e30ac",
   "metadata": {},
   "outputs": [],
   "source": [
    "CosData = pd.read_csv('csv_files/Coswara_dataset.csv')\n",
    "HevData = pd.read_csv('csv_files/Coswara_heavy_dataset.csv')\n",
    "VidData = pd.read_csv('csv_files/Coughvid_dataset.csv')\n",
    "CompData = pd.read_csv('csv_files/Compare_dataset.csv')\n",
    "PosData = pd.read_csv('csv_files/Coswara_positive_heavy_dataset.csv')\n",
    "Pos_Data = pd.read_csv('csv_files/Coswara_positive_shallow_dataset.csv')\n",
    "Posvid_Data = pd.read_csv('csv_files/Coughvid_positive_dataset.csv')"
   ]
  },
  {
   "cell_type": "code",
   "execution_count": null,
   "id": "26f20481",
   "metadata": {},
   "outputs": [],
   "source": [
    "MergeData = pd.concat([Pos_Data, PosData, Posvid_Data, CompData])\n",
    "MergeData   = MergeData.sample(frac=1).reset_index(drop=True)\n",
    "df_list = []\n",
    "for index,row in tqdm(MergeData.iterrows()):\n",
    "    temp = pd.DataFrame(columns=['ID','STATUS','DIR','DataSet'])\n",
    "    diagnose = row['STATUS']\n",
    "    if diagnose == 'healthy' or diagnose == 'negative':\n",
    "        status = 'negative'\n",
    "        temp['ID'] = [row['ID']]\n",
    "        temp['STATUS'] = [status]\n",
    "        temp['DIR'] = [row['DIR']]\n",
    "        temp['DataSet'] = [row['DataSet']] \n",
    "    elif diagnose == 'positive_moderate' or diagnose == 'positive_mild' or diagnose == 'positive_asymp' or diagnose == 'positive' or diagnose == 'COVID-19':\n",
    "        status = 'positive'\n",
    "        temp['ID'] = [row['ID']]\n",
    "        temp['STATUS'] = [status]\n",
    "        temp['DIR'] = [row['DIR']]\n",
    "        temp['DataSet'] = [row['DataSet']]\n",
    "    df_list.append(temp)\n",
    "MergeData = pd.concat(df_list)\n",
    "MergeData = MergeData.sample(frac=1).reset_index(drop=True)\n",
    "MergeData.to_csv('csv_files/Merge_dataset.csv', index=False)\n",
    "MergeData.head()"
   ]
  },
  {
   "cell_type": "code",
   "execution_count": null,
   "id": "573781ef",
   "metadata": {
    "scrolled": false
   },
   "outputs": [],
   "source": [
    "df = pd.read_csv('csv_files/Merge_dataset.csv')\n",
    "df_list = []\n",
    "for index,row in tqdm(df.iterrows()):\n",
    "    temp = pd.DataFrame(columns=['ID','STATUS','DIR','DataSet'])\n",
    "    diagnose = row['STATUS']\n",
    "    dataset = row['DataSet']\n",
    "    paths = row['DIR']\n",
    "    if dataset == 'coswara':\n",
    "        if diagnose == 'positive':\n",
    "            pt = paths.split('/')[-1]\n",
    "            if pt == 'cough-heavy.wav':\n",
    "                temp['ID'] = [row['ID']]\n",
    "                temp['STATUS'] = [diagnose]\n",
    "                temp['DIR'] = [paths]\n",
    "                temp['DataSet'] = [row['DataSet']] \n",
    "\n",
    "    df_list.append(temp)\n",
    "PosData = pd.concat(df_list)\n",
    "PosData = PosData.sample(frac=1).reset_index(drop=True)\n",
    "PosData.to_csv('csv_files/Coswara_positive_heavy_dataset.csv', index=False)\n",
    "PosData.head()"
   ]
  },
  {
   "cell_type": "code",
   "execution_count": null,
   "id": "14f40b34",
   "metadata": {},
   "outputs": [],
   "source": [
    "df = pd.read_csv('csv_files/Merge_dataset.csv')\n",
    "df_list = []\n",
    "for index,row in tqdm(df.iterrows()):\n",
    "    temp = pd.DataFrame(columns=['ID','STATUS','DIR','DataSet'])\n",
    "    diagnose = row['STATUS']\n",
    "    dataset = row['DataSet']\n",
    "    paths = row['DIR']\n",
    "    if dataset == 'coswara':\n",
    "        if diagnose == 'positive':\n",
    "            pt = paths.split('/')[-1]\n",
    "            if pt == 'cough-shallow.wav':\n",
    "                temp['ID'] = [row['ID']]\n",
    "                temp['STATUS'] = [diagnose]\n",
    "                temp['DIR'] = [paths]\n",
    "                temp['DataSet'] = [row['DataSet']] \n",
    "\n",
    "    df_list.append(temp)\n",
    "Pos_Data = pd.concat(df_list)\n",
    "Pos_Data = Pos_Data.sample(frac=1).reset_index(drop=True)\n",
    "Pos_Data.to_csv('csv_files/Coswara_positive_shallow_dataset.csv', index=False)\n",
    "Pos_Data.head()"
   ]
  },
  {
   "cell_type": "code",
   "execution_count": null,
   "id": "d0e9cd50",
   "metadata": {},
   "outputs": [],
   "source": [
    "df = pd.read_csv('csv_files/Merge_dataset.csv')\n",
    "df_list = []\n",
    "for index,row in tqdm(df.iterrows()):\n",
    "    temp = pd.DataFrame(columns=['ID','STATUS','DIR','DataSet'])\n",
    "    diagnose = row['STATUS']\n",
    "    dataset = row['DataSet']\n",
    "    dirs  = row['DIR']\n",
    "    if dataset == 'coughvid':\n",
    "        if diagnose == 'positive':\n",
    "            temp['ID'] = [row['ID']]\n",
    "            temp['STATUS'] = [diagnose]\n",
    "            temp['DIR'] = [dirs]\n",
    "            temp['DataSet'] = [row['DataSet']] \n",
    "    df_list.append(temp)\n",
    "Posvid_Data = pd.concat(df_list)\n",
    "Posvid_Data = Posvid_Data.sample(frac=1).reset_index(drop=True)\n",
    "Posvid_Data.to_csv('csv_files/Coughvid_positive_dataset.csv', index=False)\n",
    "Posvid_Data.head()"
   ]
  },
  {
   "cell_type": "code",
   "execution_count": null,
   "id": "ddf396ed",
   "metadata": {},
   "outputs": [],
   "source": [
    "df = pd.read_csv('csv_files/Merge_dataset.csv')\n",
    "df_list = []\n",
    "for index,row in df.iterrows():\n",
    "    dataset = row['DataSet']\n",
    "    cat = row['STATUS']\n",
    "    dirs = row['DIR']\n",
    "    paths = dirs.split('/')[-1]\n",
    "    if dataset == 'coswara':\n",
    "        if cat == 'positive' :\n",
    "            if paths == 'cough-heavy.wav':\n",
    "                df_list.append(dataset)"
   ]
  },
  {
   "cell_type": "code",
   "execution_count": null,
   "id": "dd90c053",
   "metadata": {},
   "outputs": [],
   "source": [
    "len(df_list)"
   ]
  },
  {
   "cell_type": "code",
   "execution_count": null,
   "id": "71e359a7",
   "metadata": {},
   "outputs": [],
   "source": [
    "len(df_list)"
   ]
  },
  {
   "cell_type": "code",
   "execution_count": null,
   "id": "afc70fde",
   "metadata": {},
   "outputs": [],
   "source": []
  }
 ],
 "metadata": {
  "kernelspec": {
   "display_name": "Python 3 (ipykernel)",
   "language": "python",
   "name": "python3"
  },
  "language_info": {
   "codemirror_mode": {
    "name": "ipython",
    "version": 3
   },
   "file_extension": ".py",
   "mimetype": "text/x-python",
   "name": "python",
   "nbconvert_exporter": "python",
   "pygments_lexer": "ipython3",
   "version": "3.9.8"
  }
 },
 "nbformat": 4,
 "nbformat_minor": 5
}
