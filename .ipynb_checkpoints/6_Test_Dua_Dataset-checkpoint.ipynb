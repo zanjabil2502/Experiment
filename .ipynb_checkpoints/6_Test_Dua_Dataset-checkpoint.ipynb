{
 "cells": [
  {
   "cell_type": "markdown",
   "id": "b15e59b1",
   "metadata": {},
   "source": [
    "## Testing 5 Seed"
   ]
  },
  {
   "cell_type": "code",
   "execution_count": null,
   "id": "b67ea186",
   "metadata": {
    "scrolled": true
   },
   "outputs": [],
   "source": [
    "import os\n",
    "\n",
    "data = 'csv_files/experiment_data/test.csv'\n",
    "folder = 'dataset/Merge-Data/'\n",
    "experiment_dir = 'result/'\n",
    "command = f\"python script/test_all_seeds.py -t {data} -r {folder} --experiment_dir {experiment_dir}\"\n",
    "os.system(command)"
   ]
  },
  {
   "cell_type": "code",
   "execution_count": null,
   "id": "40cd5d5e",
   "metadata": {},
   "outputs": [],
   "source": [
    "import os\n",
    "\n",
    "data = 'csv_files/experiment_data/test.csv'\n",
    "folder = 'dataset/Merge-Data/'\n",
    "experiment_dir = 'result/'\n",
    "musan = 'dataset/Musan-Data'\n",
    "command = f\"python script/test_all_seeds.py -t {data} -r {folder} --experiment_dir {experiment_dir} --insert_noise 1 --num_additive 1 --num_specaug 1 --musan_path {musan}\"\n",
    "os.system(command)"
   ]
  }
 ],
 "metadata": {
  "kernelspec": {
   "display_name": "Python 3 (ipykernel)",
   "language": "python",
   "name": "python3"
  },
  "language_info": {
   "codemirror_mode": {
    "name": "ipython",
    "version": 3
   },
   "file_extension": ".py",
   "mimetype": "text/x-python",
   "name": "python",
   "nbconvert_exporter": "python",
   "pygments_lexer": "ipython3",
   "version": "3.9.8"
  }
 },
 "nbformat": 4,
 "nbformat_minor": 5
}
