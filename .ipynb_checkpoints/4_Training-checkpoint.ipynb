{
 "cells": [
  {
   "cell_type": "markdown",
   "id": "772d562f",
   "metadata": {},
   "source": [
    "## Downloading Pre-Trained Model"
   ]
  },
  {
   "cell_type": "code",
   "execution_count": null,
   "id": "8f6614e9",
   "metadata": {
    "scrolled": true
   },
   "outputs": [],
   "source": [
    "!wget https://zenodo.org/record/3987831/files/MobileNetV1_mAP%3D0.389.pth"
   ]
  },
  {
   "cell_type": "markdown",
   "id": "e8396638",
   "metadata": {},
   "source": [
    "## Training 5 Seeds"
   ]
  },
  {
   "cell_type": "code",
   "execution_count": null,
   "id": "f85d2071",
   "metadata": {
    "scrolled": true
   },
   "outputs": [],
   "source": [
    "import os\n",
    "\n",
    "config = 'script/config.json'\n",
    "seeds = [42]\n",
    "for seed in seeds:\n",
    "    command = f\"python script/train.py -c {config} -s {seed}\"\n",
    "    os.system(command)"
   ]
  }
 ],
 "metadata": {
  "kernelspec": {
   "display_name": "Python 3 (ipykernel)",
   "language": "python",
   "name": "python3"
  },
  "language_info": {
   "codemirror_mode": {
    "name": "ipython",
    "version": 3
   },
   "file_extension": ".py",
   "mimetype": "text/x-python",
   "name": "python",
   "nbconvert_exporter": "python",
   "pygments_lexer": "ipython3",
   "version": "3.9.8"
  }
 },
 "nbformat": 4,
 "nbformat_minor": 5
}
